{
 "cells": [
  {
   "cell_type": "code",
   "execution_count": 1,
   "metadata": {},
   "outputs": [],
   "source": [
    "import nbformat\n",
    "from nbconvert.preprocessors import ExecutePreprocessor\n",
    "\n",
    "# 设置要运行的 notebook 文件名\n",
    "notebook_filename = 'Preprocessing.ipynb'\n",
    "notebook_filename1 = 'Treads_RC_calc.ipynb'\n",
    "notebook_filename2 = 'Treads_RT_calc.ipynb'\n",
    "notebook_filename3 = 'Treads_IF_calc.ipynb'\n",
    "notebook_filename4 = 'Treads_RecTr_calc.ipynb'\n"
   ]
  },
  {
   "cell_type": "code",
   "execution_count": 10,
   "metadata": {},
   "outputs": [],
   "source": [
    "# 读取 notebook Preprocessing\n",
    "with open(notebook_filename) as f:\n",
    "    notebook = nbformat.read(f, as_version=4)\n",
    "\n",
    "# 设置执行器\n",
    "ep = ExecutePreprocessor(timeout=600)\n",
    "\n",
    "# 运行 notebook\n",
    "ep.preprocess(notebook)\n",
    "\n",
    "# 保存运行后的 notebook\n",
    "with open(notebook_filename, 'wt') as f:\n",
    "    nbformat.write(notebook, f)"
   ]
  },
  {
   "cell_type": "code",
   "execution_count": 4,
   "metadata": {},
   "outputs": [],
   "source": [
    "# 读取 notebook Treads_RC_calc\n",
    "with open(notebook_filename1) as f:\n",
    "    notebook = nbformat.read(f, as_version=4)\n",
    "\n",
    "# 设置执行器\n",
    "ep = ExecutePreprocessor(timeout=6000)\n",
    "\n",
    "# 运行 notebook\n",
    "ep.preprocess(notebook)\n",
    "\n",
    "# 保存运行后的 notebook\n",
    "with open(notebook_filename1, 'wt') as f:\n",
    "    nbformat.write(notebook, f)"
   ]
  },
  {
   "cell_type": "code",
   "execution_count": 6,
   "metadata": {},
   "outputs": [],
   "source": [
    "# 读取 notebook Treads_RT_calc\n",
    "with open(notebook_filename2) as f:\n",
    "    notebook = nbformat.read(f, as_version=4)\n",
    "\n",
    "# 设置执行器\n",
    "ep = ExecutePreprocessor(timeout=6000)\n",
    "\n",
    "# 运行 notebook\n",
    "ep.preprocess(notebook)\n",
    "\n",
    "# 保存运行后的 notebook\n",
    "with open(notebook_filename2, 'wt') as f:\n",
    "    nbformat.write(notebook, f)"
   ]
  },
  {
   "cell_type": "code",
   "execution_count": 7,
   "metadata": {},
   "outputs": [],
   "source": [
    "# 读取 notebook Treads_IF_calc\n",
    "with open(notebook_filename3) as f:\n",
    "    notebook = nbformat.read(f, as_version=4)\n",
    "\n",
    "# 设置执行器\n",
    "ep = ExecutePreprocessor(timeout=600)\n",
    "\n",
    "# 运行 notebook\n",
    "ep.preprocess(notebook)\n",
    "\n",
    "# 保存运行后的 notebook\n",
    "with open(notebook_filename3, 'wt') as f:\n",
    "    nbformat.write(notebook, f)"
   ]
  },
  {
   "cell_type": "code",
   "execution_count": 8,
   "metadata": {},
   "outputs": [],
   "source": [
    "# 读取 notebook Treads_RecTr_calc !考虑地震强度对Utility的影响\n",
    "with open(notebook_filename4) as f:\n",
    "    notebook = nbformat.read(f, as_version=4)\n",
    "\n",
    "# 设置执行器\n",
    "ep = ExecutePreprocessor(timeout=600)\n",
    "\n",
    "# 运行 notebook\n",
    "ep.preprocess(notebook)\n",
    "\n",
    "# 保存运行后的 notebook\n",
    "with open(notebook_filename4, 'wt') as f:\n",
    "    nbformat.write(notebook, f)"
   ]
  }
 ],
 "metadata": {
  "kernelspec": {
   "display_name": "base",
   "language": "python",
   "name": "python3"
  },
  "language_info": {
   "codemirror_mode": {
    "name": "ipython",
    "version": 3
   },
   "file_extension": ".py",
   "mimetype": "text/x-python",
   "name": "python",
   "nbconvert_exporter": "python",
   "pygments_lexer": "ipython3",
   "version": "3.11.2"
  }
 },
 "nbformat": 4,
 "nbformat_minor": 2
}
