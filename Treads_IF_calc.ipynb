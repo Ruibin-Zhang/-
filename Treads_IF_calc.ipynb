{
 "cells": [
  {
   "cell_type": "code",
   "execution_count": 1,
   "metadata": {},
   "outputs": [],
   "source": [
    "import os\n",
    "import numpy as np\n",
    "import sys\n",
    "\n",
    "import json\n",
    "import pandas as pd\n",
    "import pickle"
   ]
  },
  {
   "cell_type": "code",
   "execution_count": 2,
   "metadata": {},
   "outputs": [],
   "source": [
    "# 获取当前目录路径\n",
    "current_dir = os.getcwd()\n",
    "\n",
    "# 定义子目录名\n",
    "subdir_name = 'Output_treads'\n",
    "\n",
    "# 创建子目录\n",
    "subdir_path = os.path.join(current_dir, subdir_name)\n",
    "if not os.path.exists(subdir_path):\n",
    "    os.makedirs(subdir_path)"
   ]
  },
  {
   "cell_type": "code",
   "execution_count": 24,
   "metadata": {},
   "outputs": [],
   "source": [
    "DMG_input = 'Output_preprocessing/DMG_sample_R.csv' #pelicun output 经过前处理，去掉了倒塌和不可修复的情况，和无损伤的样本\n",
    "DL_summary_input = 'Output_pelicun/DL_summary.csv' #pelicun output\n",
    "IF_delays_input = 'IF_delays_input.csv'\n",
    "input_params_json = 'Output_preprocessing/input_parameters_R.json'\n",
    "\n",
    "output_path = subdir_path"
   ]
  },
  {
   "cell_type": "code",
   "execution_count": 9,
   "metadata": {},
   "outputs": [],
   "source": [
    "pickle_file_path = 'Output_treads/RC_results.pkl'\n",
    "\n",
    "# 从pickle文件中加载字典数据\n",
    "with open(pickle_file_path, \"rb\") as file:\n",
    "    RC_results = pickle.load(file)\n",
    "\n",
    "RCmax_RS = np.squeeze(RC_results[\"RCmax_RS\"])"
   ]
  },
  {
   "cell_type": "code",
   "execution_count": 16,
   "metadata": {},
   "outputs": [],
   "source": [
    "with open(input_params_json) as f:\n",
    "    input_param = json.load(f)"
   ]
  },
  {
   "cell_type": "code",
   "execution_count": 17,
   "metadata": {},
   "outputs": [],
   "source": [
    "#impeding factor calculation\n",
    "total_cost = input_param['total_cost']\n",
    "coeff_financing = input_param['financing_coeff']\n",
    "n_structural = input_param['stabilization']['limit_structural']\n",
    "t_structural = input_param['stabilization']['time_structural']\n",
    "n_facade = input_param['stabilization']['limit_facade']\n",
    "t_facade = input_param['stabilization']['time_facade']"
   ]
  },
  {
   "cell_type": "code",
   "execution_count": 7,
   "metadata": {},
   "outputs": [],
   "source": [
    "DMG = pd.read_csv(DMG_input, low_memory=False, header=None)\n",
    "PG = DMG.loc[1, 1:] #performance groups indicating the location of fragility\n",
    "\n",
    "FG = DMG.loc[0, 1:] #fragility groups\n",
    "n_PG = len(FG)\n",
    "DL_summary=pd.read_csv(DL_summary_input)\n",
    "IF_delays=pd.read_csv(IF_delays_input)\n",
    "med_RC1=IF_delays['Median_RC=1']\n",
    "med_RC2=IF_delays['Median_RC>1']\n",
    "disp_RC1=IF_delays['Dispersion_RC=1']\n",
    "disp_RC2=IF_delays['Dispersion_RC>1']\n",
    "\n",
    "\n",
    "cases_collapse = DL_summary[\"collapses/collapsed\"]\n",
    "indx_collapse = cases_collapse[cases_collapse==1].index\n",
    "cases_irreparable = DL_summary[\"reconstruction/irreparable\"]\n",
    "indx_irreparable = cases_irreparable[cases_irreparable==1].index\n",
    "indx_all = DL_summary[\"#Num\"]\n",
    "indx_repairable =  indx_all.drop(indx_collapse.union(indx_irreparable))\n",
    "\n",
    "story_FG = []\n",
    "for i in range(n_PG):\n",
    "    story_FG.append(int((PG[i+1])))\n",
    "\n",
    "story = list(set(story_FG))\n",
    "story.sort()\n"
   ]
  },
  {
   "cell_type": "code",
   "execution_count": null,
   "metadata": {},
   "outputs": [],
   "source": [
    "story"
   ]
  },
  {
   "cell_type": "code",
   "execution_count": 10,
   "metadata": {},
   "outputs": [],
   "source": [
    "#%% repairable buildings -- impeding factors\n",
    "#inspection\n",
    "IF_inspection = np.zeros(len(indx_repairable))\n",
    "\n",
    "for i in range (len(RCmax_RS)):\n",
    "    if (max(RCmax_RS[i,:])>=1):\n",
    "        IF_inspection[i]= np.random.lognormal(np.log(med_RC2[0]),disp_RC2[0])\n",
    "IF_inspection_mat2 = np.append(IF_inspection, np.zeros(len(indx_irreparable)+len(indx_collapse)))\n",
    "\n"
   ]
  },
  {
   "cell_type": "code",
   "execution_count": 11,
   "metadata": {},
   "outputs": [],
   "source": [
    "#engineering\n",
    "n1=np.zeros(len(indx_repairable))\n",
    "n2=np.zeros(len(indx_repairable))\n",
    "for i in range (len(indx_repairable)):\n",
    "    x=0\n",
    "    for j in range(len(story)):\n",
    "        if ((RCmax_RS[i,x])==1):\n",
    "            n1[i]=n1[i]+1\n",
    "        elif ((RCmax_RS[i,x])>1):\n",
    "            n2[i]=n2[i]+1\n",
    "        x = x+7\n",
    "IF_eng = (n1*np.random.lognormal(np.log(med_RC1[1]),disp_RC1[1],len(indx_repairable)) + n2*np.random.lognormal(np.log(med_RC2[1]),disp_RC2[1],len(indx_repairable)))/len(story)\n",
    "IF_eng_mat2 = np.append(IF_eng, np.zeros(len(indx_irreparable)+len(indx_collapse)))\n",
    "\n"
   ]
  },
  {
   "cell_type": "code",
   "execution_count": 12,
   "metadata": {},
   "outputs": [],
   "source": [
    "#permitting\n",
    "IF_permit = (n1*np.random.lognormal(np.log(med_RC1[2]),disp_RC1[2],len(indx_repairable)) + n2*np.random.lognormal(np.log(med_RC2[2]),disp_RC2[2],len(indx_repairable)))/len(story)\n",
    "IF_permit_mat2 = np.append(IF_permit, np.zeros(len(indx_irreparable)+len(indx_collapse)))\n"
   ]
  },
  {
   "cell_type": "code",
   "execution_count": 18,
   "metadata": {},
   "outputs": [],
   "source": [
    "DL_summary[\"reconstruction/cost_impractical\"] = np.where(DL_summary[\"repair_cost-\"] > total_cost, 1, 0) #维修费用大于重建费用，认为不可修复\n"
   ]
  },
  {
   "cell_type": "code",
   "execution_count": null,
   "metadata": {},
   "outputs": [],
   "source": [
    "DL_summary"
   ]
  },
  {
   "cell_type": "code",
   "execution_count": 19,
   "metadata": {},
   "outputs": [],
   "source": [
    "#financing\n",
    "repair_cost_all = DL_summary[DL_summary[\"reconstruction/cost_impractical\"]==0]\n",
    "repair_cost = repair_cost_all[\"repair_cost-\"]\n",
    "ELR = (repair_cost/total_cost).to_numpy()\n",
    "deductible = 0.1\n",
    "\n",
    "IF_finance = np.zeros(len(indx_repairable))\n",
    "rand_num = np.random.rand(len(indx_repairable))\n",
    "for i in range(len(indx_repairable)):\n",
    "        #financing is suppoorted by insurance\n",
    "    if rand_num[i] <=coeff_financing[0]:\n",
    "        if (ELR[i]>0.05) and (ELR[i]<=deductible):\n",
    "            IF_finance[i] = 0.5*np.random.lognormal(np.log(med_RC2[4]),disp_RC2[4])\n",
    "        elif (ELR[i]>deductible):\n",
    "            IF_finance[i] = max(0.5*np.random.lognormal(np.log(med_RC2[4]),disp_RC2[4]) , np.random.lognormal(np.log(med_RC2[3]),disp_RC2[3]))\n",
    "        #financing is suppoorted by private loans\n",
    "    elif coeff_financing[0]< rand_num[i] <=coeff_financing[1]+coeff_financing[0]:\n",
    "        if (ELR[i]>0.05) and (ELR[i]<=0.1):\n",
    "            IF_finance[i] = 0.5*np.random.lognormal(np.log(med_RC2[4]),disp_RC2[4])\n",
    "        elif (ELR[i]>0.1):\n",
    "            IF_finance[i] = np.random.lognormal(np.log(med_RC2[4]),disp_RC2[4])\n",
    "    #financing is suppoorted by public loans  \n",
    "    else: \n",
    "        if (ELR[i]>0.1):\n",
    "            IF_finance[i] = np.random.lognormal(np.log(med_RC2[5]),disp_RC2[5])\n",
    "        else:\n",
    "            IF_finance[i] = 0.5*np.random.lognormal(np.log(med_RC2[5]),disp_RC2[5])\n",
    "\n",
    "IF_finance_mat2 = np.append(IF_finance, np.zeros(len(indx_irreparable)+len(indx_collapse)))"
   ]
  },
  {
   "cell_type": "code",
   "execution_count": 21,
   "metadata": {},
   "outputs": [
    {
     "data": {
      "text/plain": [
       "array([0.        , 0.07502556, 0.        , ..., 0.08179412, 0.08471599,\n",
       "       0.0771604 ])"
      ]
     },
     "execution_count": 21,
     "metadata": {},
     "output_type": "execute_result"
    }
   ],
   "source": [
    "ELR"
   ]
  },
  {
   "cell_type": "code",
   "execution_count": null,
   "metadata": {},
   "outputs": [],
   "source": [
    "# repair_cost_all = DL_summary[DL_summary[\"reconstruction/cost_impractical\"]==0]\n",
    "# repair_cost_all"
   ]
  },
  {
   "cell_type": "code",
   "execution_count": 21,
   "metadata": {},
   "outputs": [],
   "source": [
    "#contractor mobilization for repair sequence 1\n",
    "IF_cm_rs1 = (n1*np.random.lognormal(np.log(med_RC1[6]),disp_RC1[6],len(indx_repairable)) + n2*np.random.lognormal(np.log(med_RC2[6]),disp_RC2[6],len(indx_repairable)))/len(story)\n",
    "IF_cm_rs1_mat2 = np.append(IF_cm_rs1, np.zeros(len(indx_irreparable)+len(indx_collapse)))\n",
    "\n",
    "#contractor mobilization for repair sequence 2\n",
    "n1=np.zeros(len(indx_repairable))\n",
    "n2=np.zeros(len(indx_repairable))\n",
    "for i in range (len(RCmax_RS)):\n",
    "    x=1\n",
    "    for j in range(len(story)):\n",
    "        if ((RCmax_RS[i,x])==1):\n",
    "            n1[i]=n1[i]+1\n",
    "        elif ((RCmax_RS[i,x])>1):\n",
    "            n2[i]=n2[i]+1\n",
    "        x = x+7\n",
    "IF_cm_rs2 = (n1*np.random.lognormal(np.log(med_RC1[7]),disp_RC1[7],len(indx_repairable)) + n2*np.random.lognormal(np.log(med_RC2[7]),disp_RC2[7],len(indx_repairable)))/len(story)\n",
    "IF_cm_rs2_mat2 = np.append(IF_cm_rs2, np.zeros(len(indx_irreparable)+len(indx_collapse)))\n",
    "\n",
    "#contractor mobilization for repair sequence 3\n",
    "n1=np.zeros(len(indx_repairable))\n",
    "n2=np.zeros(len(indx_repairable))\n",
    "for i in range (len(RCmax_RS)):\n",
    "    x=2\n",
    "    for j in range(len(story)):\n",
    "        if ((RCmax_RS[i,x])==1):\n",
    "            n1[i]=n1[i]+1\n",
    "        elif ((RCmax_RS[i,x])>1):\n",
    "            n2[i]=n2[i]+1\n",
    "        x = x+7\n",
    "IF_cm_rs3 = (n1*np.random.lognormal(np.log(med_RC1[8]),disp_RC1[8],len(indx_repairable)) + n2*np.random.lognormal(np.log(med_RC2[8]),disp_RC2[8],len(indx_repairable)))/len(story)  \n",
    "IF_cm_rs3_mat2 = np.append(IF_cm_rs3, np.zeros(len(indx_irreparable)+len(indx_collapse)))\n",
    "    \n",
    "#contractor mobilization for repair sequence 4\n",
    "n1=np.zeros(len(indx_repairable))\n",
    "n2=np.zeros(len(indx_repairable))\n",
    "for i in range (len(RCmax_RS)):\n",
    "    x=3\n",
    "    for j in range(len(story)):\n",
    "        if ((RCmax_RS[i,x])==1):\n",
    "            n1[i]=n1[i]+1\n",
    "        elif ((RCmax_RS[i,x])>1):\n",
    "            n2[i]=n2[i]+1\n",
    "        x = x+7\n",
    "IF_cm_rs4 = (n1*np.random.lognormal(np.log(med_RC1[9]),disp_RC1[9],len(indx_repairable)) + n2*np.random.lognormal(np.log(med_RC2[9]),disp_RC2[9],len(indx_repairable)))/len(story) \n",
    "IF_cm_rs4_mat2 = np.append(IF_cm_rs4, np.zeros(len(indx_irreparable)+len(indx_collapse)))\n",
    "\n",
    "#contractor mobilization for repair sequence 5\n",
    "n1=np.zeros(len(indx_repairable))\n",
    "n2=np.zeros(len(indx_repairable))\n",
    "for i in range (len(RCmax_RS)):\n",
    "    x=4\n",
    "    for j in range(len(story)):\n",
    "        if ((RCmax_RS[i,x])==1):\n",
    "            n1[i]=n1[i]+1\n",
    "        elif ((RCmax_RS[i,x])>1):\n",
    "            n2[i]=n2[i]+1\n",
    "        x = x+7\n",
    "IF_cm_rs5 = (n1*np.random.lognormal(np.log(med_RC1[10]),disp_RC1[10],len(indx_repairable)) + n2*np.random.lognormal(np.log(med_RC2[10]),disp_RC2[10],len(indx_repairable)))/len(story)\n",
    "IF_cm_rs5_mat2 = np.append(IF_cm_rs5, np.zeros(len(indx_irreparable)+len(indx_collapse)))\n",
    "\n",
    "#contractor mobilization for repair sequence 6\n",
    "n1=np.zeros(len(indx_repairable))\n",
    "n2=np.zeros(len(indx_repairable))\n",
    "for i in range (len(RCmax_RS)):\n",
    "    x=5\n",
    "    for j in range(len(story)):\n",
    "        if ((RCmax_RS[i,x])==1):\n",
    "            n1[i]=n1[i]+1\n",
    "        elif ((RCmax_RS[i,x])>1):\n",
    "            n2[i]=n2[i]+1\n",
    "        x = x+7\n",
    "IF_cm_rs6 = (n1*np.random.lognormal(np.log(med_RC1[11]),disp_RC1[11],len(indx_repairable)) + n2*np.random.lognormal(np.log(med_RC2[11]),disp_RC2[11],len(indx_repairable)))\n",
    "IF_cm_rs6_mat2 = np.append(IF_cm_rs6, np.zeros(len(indx_irreparable)+len(indx_collapse)))\n",
    "\n",
    "#contractor mobilization for repair sequence 7\n",
    "n1=np.zeros(len(indx_repairable))\n",
    "n2=np.zeros(len(indx_repairable))\n",
    "for i in range (len(RCmax_RS)):\n",
    "    x=6\n",
    "    for j in range(len(story)):\n",
    "        if ((RCmax_RS[i,x])==1):\n",
    "            n1[i]=n1[i]+1\n",
    "        elif ((RCmax_RS[i,x])>1):\n",
    "            n2[i]=n2[i]+1\n",
    "        x = x+7\n",
    "IF_cm_rs7 = (n1*np.random.lognormal(np.log(med_RC1[12]),disp_RC1[12],len(indx_repairable)) + n2*np.random.lognormal(np.log(med_RC2[12]),disp_RC2[12],len(indx_repairable)))/len(story)\n",
    "IF_cm_rs7_mat2 = np.append(IF_cm_rs7, np.zeros(len(indx_irreparable)+len(indx_collapse)))\n",
    "\n",
    "# # Stabilization\n",
    "# IF_stab_RC5 = np.zeros((len(RCmax_RS))) #structrual repairs\n",
    "# IF_stab_mob = 0\n",
    "# N_DMG_RC5_tot=sum(N_DMG_RC5.transpose())\n",
    "# k1 = (t_structural[0]-t_structural[1])/(n_structural[1]-n_structural[0])\n",
    "# k2 = (t_facade[0]-t_facade[1])/(n_facade[1]-n_facade[0])\n",
    "# t1 = k1*n_structural[0]+t_structural[0]\n",
    "# t2 = k2*n_facade[0]+t_facade[0]\n",
    "# for i in range(len(RCmax_RS)):\n",
    "#     if N_DMG_RC5_tot[i]>0 and N_DMG_RC5_tot[i] <= n_structural[0]:\n",
    "#         IF_stab_RC5[i] = IF_stab_mob + N_DMG_RC5_tot[i]*np.random.lognormal(np.log(t_structural[0]),0.4)\n",
    "#     elif (N_DMG_RC5_tot[i] >n_structural[0]) and (N_DMG_RC5_tot[i] <n_structural[1]):\n",
    "#         IF_stab_RC5[i] = IF_stab_mob + N_DMG_RC5_tot[i]*np.random.lognormal(np.log(-k1*N_DMG_RC5_tot[i]+t1),0.4)\n",
    "#     elif N_DMG_RC5_tot[i] >=n_structural[1]:\n",
    "#         IF_stab_RC5[i] = IF_stab_mob + (N_DMG_RC5_tot[i]*np.random.lognormal(np.log(t_structural[1]),0.4))/2\n",
    "        \n",
    "# IF_stab_RC3 = np.zeros((len(RCmax_RS))) #curtain walls\n",
    "# N_DMG_RC3_RS_mat = np.squeeze(N_DMG_RC3_RS)[:,np.arange(2,len(np.squeeze(N_DMG_RC3_RS).transpose()),7)]\n",
    "# N_DMG_RC3_RS3 = sum(N_DMG_RC3_RS_mat.transpose())\n",
    "\n",
    "# for i in range(len(RCmax_RS)):\n",
    "#     if N_DMG_RC3_RS3[i]>0 and N_DMG_RC3_RS3[i] <=n_facade[0]:\n",
    "#         IF_stab_RC3[i] = IF_stab_mob + N_DMG_RC3_RS3[i]*np.random.lognormal(np.log(t_facade[0]),0.4)\n",
    "#     elif N_DMG_RC3_RS3[i]>n_facade[0] and N_DMG_RC3_RS3[i] <n_facade[1]:\n",
    "#         IF_stab_RC3[i] = IF_stab_mob + N_DMG_RC3_RS3[i]*np.random.lognormal(np.log(-k2*N_DMG_RC3_RS3[i]+t2),0.4)\n",
    "#     elif N_DMG_RC3_RS3[i]>= n_facade[1]:\n",
    "#         IF_stab_RC3[i] = IF_stab_mob + N_DMG_RC3_RS3[i]*np.random.lognormal(np.log(t_facade[1]),0.4)/2\n",
    "\n",
    "# IF_stab = np.maximum(IF_stab_RC3, IF_stab_RC5) #total stabilization time\n",
    "# IF_stab_mat2 = np.append(IF_stab, np.zeros(len(indx_irreparable)+len(indx_collapse)))"
   ]
  },
  {
   "cell_type": "code",
   "execution_count": 25,
   "metadata": {},
   "outputs": [],
   "source": [
    "#%% impeding factor delays for irreparable buildings\n",
    "IF_reconst_eng = np.random.lognormal(np.log(med_RC2[13]),disp_RC2[13],len(indx_irreparable)+len(indx_collapse))\n",
    "IF_reconst_insur = np.random.lognormal(np.log(med_RC2[14]),disp_RC2[14],len(indx_irreparable)+len(indx_collapse))\n",
    "IF_reconst_demol = np.random.lognormal(np.log(med_RC2[15]),disp_RC2[15],len(indx_irreparable)+len(indx_collapse))\n",
    "\n",
    "IF_reconst = np.maximum(IF_reconst_eng, IF_reconst_insur, IF_reconst_demol)\n",
    "IF_reconst_mat2 = np.append(np.zeros(len(indx_repairable)),IF_reconst)\n",
    "\n",
    "IF_matrix = [IF_inspection_mat2.astype(object), IF_eng_mat2.astype(object), IF_permit_mat2.astype(object), IF_finance_mat2.astype(object), IF_cm_rs1_mat2.astype(object), \n",
    "                IF_cm_rs2_mat2.astype(object), IF_cm_rs3_mat2.astype(object), IF_cm_rs4_mat2.astype(object), IF_cm_rs5_mat2.astype(object), \n",
    "                IF_cm_rs6_mat2.astype(object), IF_cm_rs7_mat2.astype(object), IF_reconst_mat2.astype(object)]\n",
    "\n",
    "\n",
    "(pd.DataFrame(IF_matrix)).T.to_csv(os.path.join(output_path,r'IF_delays.csv'), header=['IF_inspection','IF_eng','IF_permit','IF_finance',\n",
    "                                                            'IF_cm_RS1','IF_cm_RS2','IF_cm_RS3','IF_cm_RS4',\n",
    "                                                            'IF_cm_RS5','IF_cm_RS6','IF_cm_RS7','IF_reconstruct'], index_label='#Num')"
   ]
  },
  {
   "cell_type": "code",
   "execution_count": 26,
   "metadata": {},
   "outputs": [],
   "source": [
    "#需要保存的变量\n",
    "# 定义pickle文件的路径\n",
    "pickle_file_path = os.path.join(subdir_path, 'IF_results.pkl')\n",
    "\n",
    "output_dict = {\n",
    "    'IF_inspection': IF_inspection,\n",
    "    'IF_eng': IF_eng,\n",
    "    'IF_permit': IF_permit,\n",
    "    'IF_finance': IF_finance,\n",
    "    'IF_cm_rs1': IF_cm_rs1,\n",
    "    'IF_cm_rs2': IF_cm_rs2,\n",
    "    'IF_cm_rs3': IF_cm_rs3,\n",
    "    'IF_cm_rs4': IF_cm_rs4,\n",
    "    'IF_cm_rs5': IF_cm_rs5,\n",
    "    'IF_cm_rs6': IF_cm_rs6,\n",
    "    'IF_cm_rs7': IF_cm_rs7,\n",
    "    'IF_reconst': IF_reconst\n",
    "}\n",
    "\n",
    "# 保存数据到pickle文件\n",
    "with open(pickle_file_path, \"wb\") as file:\n",
    "    pickle.dump(output_dict, file)"
   ]
  }
 ],
 "metadata": {
  "kernelspec": {
   "display_name": "Pelicun",
   "language": "python",
   "name": "python3"
  },
  "language_info": {
   "codemirror_mode": {
    "name": "ipython",
    "version": 3
   },
   "file_extension": ".py",
   "mimetype": "text/x-python",
   "name": "python",
   "nbconvert_exporter": "python",
   "pygments_lexer": "ipython3",
   "version": "3.8.19"
  },
  "orig_nbformat": 4
 },
 "nbformat": 4,
 "nbformat_minor": 2
}
